{
 "cells": [
  {
   "cell_type": "markdown",
   "metadata": {},
   "source": [
    "Text analytics"
   ]
  },
  {
   "cell_type": "markdown",
   "metadata": {},
   "source": [
    "\n",
    "####  Functions to support text analytics of imdb reviews\n"
   ]
  },
  {
   "cell_type": "code",
   "execution_count": 2,
   "metadata": {
    "scrolled": true
   },
   "outputs": [],
   "source": [
    "import requests\n",
    "import re\n",
    "from bs4 import BeautifulSoup\n",
    "import pandas as pd\n",
    "import numpy as np\n",
    "import matplotlib\n",
    "import matplotlib.pyplot as plt\n",
    "from collections import defaultdict\n",
    "from itertools import combinations\n",
    "from ggplot import *\n",
    "import unicodedata\n",
    "from textblob import TextBlob\n",
    "import nltk\n",
    "from itertools import izip\n",
    "from sklearn.feature_extraction.text import TfidfVectorizer\n",
    "from sklearn.feature_extraction.text import CountVectorizer\n",
    "from sklearn.decomposition import NMF, LatentDirichletAllocation\n",
    "\n",
    "%matplotlib inline \n",
    "matplotlib.style.use('ggplot') "
   ]
  },
  {
   "cell_type": "code",
   "execution_count": null,
   "metadata": {
    "collapsed": true
   },
   "outputs": [],
   "source": [
    "\n"
   ]
  },
  {
   "cell_type": "code",
   "execution_count": 3,
   "metadata": {
    "scrolled": false
   },
   "outputs": [],
   "source": [
    "# Modules to support text analytics \n",
    "\n",
    "def requestPage(url): \n",
    "    try:\n",
    "        response = requests.get(url)  \n",
    "        page  = BeautifulSoup(response.text, 'html.parser')\n",
    "        return page\n",
    "        \n",
    "    except(ConnectionError, Exception), e:\n",
    "        print \"Exception is :\", e\n",
    "\n",
    "        \n",
    "def extractRatings(page,i):\n",
    "    data_rating = {}\n",
    "    i = i + 1 \n",
    "    for b in page.select('div[id=\"tn15content\"] img'):\n",
    "        rating = b.get(\"alt\")\n",
    "        if rating is not None and rating != u\"[Next]\" and rating != u\"[Prev]\":\n",
    "            data_rating.update({i:rating.encode('utf-8')})\n",
    "            i = i + 1\n",
    "    return data_rating\n",
    "\n",
    "def extractReviews(page,i):\n",
    "    data_review = {}\n",
    "    i = i + 1 \n",
    "    for a in page.select('div[id=\"tn15content\"] p'):\n",
    "        review = a.get_text().replace(\"\\n\",\" \").replace(\"*** This review may contain spoilers ***\", \"IGNORE\").replace(\"Add another review\",\"IGNORE\")\n",
    "        if review != \"IGNORE\":\n",
    "            data_review.update({i:review.encode('utf-8')})\n",
    "            i = i + 1 \n",
    "    return data_review\n",
    "\n",
    "def tokenize(text):\n",
    "    # first tokenize by sentence, then by word to ensure that punctuation is caught as it's own token\n",
    "    tokens = [word.lower() for sent in nltk.sent_tokenize(text) for word in nltk.word_tokenize(sent)]\n",
    "    filtered_tokens = []\n",
    "    # filter out any tokens not containing letters (e.g., numeric tokens, raw punctuation)\n",
    "    for token in tokens:\n",
    "        if re.search('[a-zA-Z]', token):\n",
    "            filtered_tokens.append(token)\n",
    "    return filtered_tokens\n",
    "\n",
    "def print_top_words(model, feature_names, n_top_words):\n",
    "    for topic_idx, topic in enumerate(model.components_):\n",
    "        print(\"Topic #%d:\" % topic_idx)\n",
    "        print(\" \".join([feature_names[i]\n",
    "                        for i in topic.argsort()[:-n_top_words - 1:-1]]))\n",
    "    print()"
   ]
  },
  {
   "cell_type": "markdown",
   "metadata": {},
   "source": [
    "### Extract IMDB movie reviews ( 50 positive , 50 negative ) for movie = Titanic ( 1997 ) \n",
    "   http://www.imdb.com/title/tt0120338/\n",
    "    "
   ]
  },
  {
   "cell_type": "code",
   "execution_count": 4,
   "metadata": {},
   "outputs": [
    {
     "name": "stdout",
     "output_type": "stream",
     "text": [
      "\n",
      " Extracted ratings & reviews\n"
     ]
    }
   ],
   "source": [
    "# Movie name = Up\n",
    "\n",
    "p_url = \"http://www.imdb.com/title/tt0120338/reviews?filter=love;start=\" # positive reviews link\n",
    "n_url = \"http://www.imdb.com/title/tt0120338/reviews?filter=hate;start=\" # negative reviews link\n",
    "\n",
    "# DataFrame for all extracted reviews\n",
    "imdb = pd.DataFrame()\n",
    "\n",
    "# Pagination for 50 reviews \n",
    "pagination = [0,10,20,30,40] # pagination for imdb pagination to get top 50 reviews in a category \n",
    "\n",
    "for counter in pagination:\n",
    "\n",
    "    positive_url = p_url + str(counter)\n",
    "    negative_url = n_url + str(counter)\n",
    "    \n",
    "    # Request url for reviews \n",
    "    responses_positive = requestPage(positive_url)\n",
    "    responses_negative = requestPage(negative_url)\n",
    "    \n",
    "    # Extract ratings and reviews \n",
    "    ratings_positive  = extractRatings(responses_positive,counter)    \n",
    "    reviews_positive  = extractReviews(responses_positive,counter)\n",
    "    \n",
    "    ratings_negative  = extractRatings(responses_negative,counter+50)\n",
    "    reviews_negative  = extractReviews(responses_negative,counter+50)\n",
    "    \n",
    "    # Copy the extracted data into dataframes\n",
    "    df_p = pd.DataFrame(columns=['ratings','reviews'])\n",
    "    df_p = pd.DataFrame([ratings_positive,reviews_positive]).T\n",
    "    \n",
    "    df_n = pd.DataFrame(columns=['ratings','reviews'])\n",
    "    df_n = pd.DataFrame([ratings_negative,reviews_negative]).T\n",
    "    \n",
    "    # Create master dataframe for text analytics \n",
    "    imdb = imdb.append([df_p,df_n])\n",
    "    \n",
    "print \"\\n Extracted ratings & reviews\""
   ]
  },
  {
   "cell_type": "code",
   "execution_count": 5,
   "metadata": {},
   "outputs": [
    {
     "name": "stdout",
     "output_type": "stream",
     "text": [
      "   ratings                                            reviews\n",
      "1    10/10   Every once in a while the conversation will t...\n",
      "2    10/10    To all the miserable people who have done ev...\n",
      "3    10/10    I find it so amazing that even after all the...\n",
      "4    10/10   This movie re-wrote film history in every way...\n",
      "5    10/10   Back in 1997, do I remember that year: Clinto...\n",
      "6    10/10   James Cameron's 'Titanic' is essentially a ro...\n",
      "7    10/10   It's a crying freaking shame that this outsta...\n",
      "8    10/10    When you have a film this big and successful...\n",
      "9    10/10   Thirteen years after Titanic launched and all...\n",
      "10   10/10   Good Lord. This movie right here, it's a mast...\n",
      "    ratings                                            reviews\n",
      "91     1/10    I can´t see what so great with this film. Fo...\n",
      "92     1/10    Alright... where to begin. This is.. without...\n",
      "93     1/10   This movie is the biggest waste of an opportu...\n",
      "94     1/10    This movie should have never have been nomin...\n",
      "95     1/10    I have said it before, and I'll say it again...\n",
      "96     1/10    I don't see what all the hype is about this ...\n",
      "97     1/10    Your average American loves Titanic. This is...\n",
      "98     1/10    Actually reading a lot of the previous revie...\n",
      "99     1/10    Why does everyone say this is a good movie w...\n",
      "100    1/10    What a dog! A wonderful exercise by Hollywoo...\n"
     ]
    }
   ],
   "source": [
    "imdb.columns = ['ratings', 'reviews']\n",
    "imdb = imdb.sort_index()\n",
    "print imdb.head(10)\n",
    "print imdb.tail(10)"
   ]
  },
  {
   "cell_type": "code",
   "execution_count": 6,
   "metadata": {},
   "outputs": [],
   "source": [
    "# Convert user ratings from string to float \n",
    "temp_ratings =  imdb['ratings'].str.split('/', expand = True ).astype(float)\n",
    "temp_ratings['divide'] = temp_ratings[0].div(temp_ratings[1], axis='index')\n",
    "imdb['ratings'] = temp_ratings['divide']"
   ]
  },
  {
   "cell_type": "markdown",
   "metadata": {},
   "source": [
    "\n",
    "### Identify polarity & subjectivity ( sentiment analysis ) of all movie reviews \n"
   ]
  },
  {
   "cell_type": "code",
   "execution_count": 7,
   "metadata": {},
   "outputs": [
    {
     "data": {
      "text/html": [
       "<div>\n",
       "<table border=\"1\" class=\"dataframe\">\n",
       "  <thead>\n",
       "    <tr style=\"text-align: right;\">\n",
       "      <th></th>\n",
       "      <th>ratings</th>\n",
       "      <th>reviews</th>\n",
       "      <th>polarity</th>\n",
       "      <th>subjectivity</th>\n",
       "    </tr>\n",
       "  </thead>\n",
       "  <tbody>\n",
       "    <tr>\n",
       "      <th>1</th>\n",
       "      <td>1.0</td>\n",
       "      <td>Every once in a while the conversation will t...</td>\n",
       "      <td>0.158136</td>\n",
       "      <td>0.558948</td>\n",
       "    </tr>\n",
       "    <tr>\n",
       "      <th>2</th>\n",
       "      <td>1.0</td>\n",
       "      <td>To all the miserable people who have done ev...</td>\n",
       "      <td>0.152778</td>\n",
       "      <td>0.563889</td>\n",
       "    </tr>\n",
       "    <tr>\n",
       "      <th>3</th>\n",
       "      <td>1.0</td>\n",
       "      <td>I find it so amazing that even after all the...</td>\n",
       "      <td>0.240171</td>\n",
       "      <td>0.453155</td>\n",
       "    </tr>\n",
       "    <tr>\n",
       "      <th>4</th>\n",
       "      <td>1.0</td>\n",
       "      <td>This movie re-wrote film history in every way...</td>\n",
       "      <td>0.441667</td>\n",
       "      <td>0.682143</td>\n",
       "    </tr>\n",
       "    <tr>\n",
       "      <th>5</th>\n",
       "      <td>1.0</td>\n",
       "      <td>Back in 1997, do I remember that year: Clinto...</td>\n",
       "      <td>0.257593</td>\n",
       "      <td>0.607704</td>\n",
       "    </tr>\n",
       "    <tr>\n",
       "      <th>6</th>\n",
       "      <td>1.0</td>\n",
       "      <td>James Cameron's 'Titanic' is essentially a ro...</td>\n",
       "      <td>0.133479</td>\n",
       "      <td>0.567009</td>\n",
       "    </tr>\n",
       "    <tr>\n",
       "      <th>7</th>\n",
       "      <td>1.0</td>\n",
       "      <td>It's a crying freaking shame that this outsta...</td>\n",
       "      <td>0.168599</td>\n",
       "      <td>0.589010</td>\n",
       "    </tr>\n",
       "    <tr>\n",
       "      <th>8</th>\n",
       "      <td>1.0</td>\n",
       "      <td>When you have a film this big and successful...</td>\n",
       "      <td>0.168932</td>\n",
       "      <td>0.568299</td>\n",
       "    </tr>\n",
       "    <tr>\n",
       "      <th>9</th>\n",
       "      <td>1.0</td>\n",
       "      <td>Thirteen years after Titanic launched and all...</td>\n",
       "      <td>0.210227</td>\n",
       "      <td>0.517424</td>\n",
       "    </tr>\n",
       "    <tr>\n",
       "      <th>10</th>\n",
       "      <td>1.0</td>\n",
       "      <td>Good Lord. This movie right here, it's a mast...</td>\n",
       "      <td>0.219643</td>\n",
       "      <td>0.628671</td>\n",
       "    </tr>\n",
       "    <tr>\n",
       "      <th>11</th>\n",
       "      <td>1.0</td>\n",
       "      <td>It really physically hurts me when i don't se...</td>\n",
       "      <td>0.285317</td>\n",
       "      <td>0.462982</td>\n",
       "    </tr>\n",
       "    <tr>\n",
       "      <th>12</th>\n",
       "      <td>1.0</td>\n",
       "      <td>This is EXACTLY what I think: It annoys me wh...</td>\n",
       "      <td>0.198482</td>\n",
       "      <td>0.449656</td>\n",
       "    </tr>\n",
       "    <tr>\n",
       "      <th>13</th>\n",
       "      <td>1.0</td>\n",
       "      <td>Titanic is one of my all time favourite films...</td>\n",
       "      <td>0.300154</td>\n",
       "      <td>0.573118</td>\n",
       "    </tr>\n",
       "    <tr>\n",
       "      <th>14</th>\n",
       "      <td>1.0</td>\n",
       "      <td>Even though some of the actual events did not...</td>\n",
       "      <td>0.367708</td>\n",
       "      <td>0.519792</td>\n",
       "    </tr>\n",
       "    <tr>\n",
       "      <th>15</th>\n",
       "      <td>1.0</td>\n",
       "      <td>I saw this movie in the theatre's back in 199...</td>\n",
       "      <td>0.303926</td>\n",
       "      <td>0.559298</td>\n",
       "    </tr>\n",
       "  </tbody>\n",
       "</table>\n",
       "</div>"
      ],
      "text/plain": [
       "    ratings                                            reviews  polarity  \\\n",
       "1       1.0   Every once in a while the conversation will t...  0.158136   \n",
       "2       1.0    To all the miserable people who have done ev...  0.152778   \n",
       "3       1.0    I find it so amazing that even after all the...  0.240171   \n",
       "4       1.0   This movie re-wrote film history in every way...  0.441667   \n",
       "5       1.0   Back in 1997, do I remember that year: Clinto...  0.257593   \n",
       "6       1.0   James Cameron's 'Titanic' is essentially a ro...  0.133479   \n",
       "7       1.0   It's a crying freaking shame that this outsta...  0.168599   \n",
       "8       1.0    When you have a film this big and successful...  0.168932   \n",
       "9       1.0   Thirteen years after Titanic launched and all...  0.210227   \n",
       "10      1.0   Good Lord. This movie right here, it's a mast...  0.219643   \n",
       "11      1.0   It really physically hurts me when i don't se...  0.285317   \n",
       "12      1.0   This is EXACTLY what I think: It annoys me wh...  0.198482   \n",
       "13      1.0   Titanic is one of my all time favourite films...  0.300154   \n",
       "14      1.0   Even though some of the actual events did not...  0.367708   \n",
       "15      1.0   I saw this movie in the theatre's back in 199...  0.303926   \n",
       "\n",
       "    subjectivity  \n",
       "1       0.558948  \n",
       "2       0.563889  \n",
       "3       0.453155  \n",
       "4       0.682143  \n",
       "5       0.607704  \n",
       "6       0.567009  \n",
       "7       0.589010  \n",
       "8       0.568299  \n",
       "9       0.517424  \n",
       "10      0.628671  \n",
       "11      0.462982  \n",
       "12      0.449656  \n",
       "13      0.573118  \n",
       "14      0.519792  \n",
       "15      0.559298  "
      ]
     },
     "execution_count": 7,
     "metadata": {},
     "output_type": "execute_result"
    }
   ],
   "source": [
    "# Find polarity and subjectivity of the reviews ( sentiment analysis)\n",
    "\n",
    "imdb['polarity'] = imdb.reviews.apply(lambda s: TextBlob(unicode(s, errors='ignore')).sentiment.polarity)\n",
    "imdb['subjectivity'] = imdb.reviews.apply(lambda s: TextBlob(unicode(s, errors='ignore')).sentiment.subjectivity)\n",
    "imdb.head(15)"
   ]
  },
  {
   "cell_type": "markdown",
   "metadata": {},
   "source": [
    "### Co-relation between movie review polarity and star ratings from the users \n"
   ]
  },
  {
   "cell_type": "code",
   "execution_count": 8,
   "metadata": {},
   "outputs": [
    {
     "name": "stdout",
     "output_type": "stream",
     "text": [
      "               ratings  polarity  subjectivity\n",
      "ratings       1.000000  0.631849      0.160403\n",
      "polarity      0.631849  1.000000      0.141231\n",
      "subjectivity  0.160403  0.141231      1.000000\n"
     ]
    },
    {
     "data": {
      "image/png": "[encoded data removed]",
      "text/plain": [
       "<matplotlib.figure.Figure at 0x7ff2b9a2b510>"
      ]
     },
     "metadata": {},
     "output_type": "display_data"
    }
   ],
   "source": [
    "print imdb[['ratings','polarity','subjectivity']].corr()\n",
    "\n",
    "ax = imdb['polarity'][1:50].plot(figsize=(12, 6))\n",
    "ax = imdb['polarity'][51:100].plot(figsize=(12, 6))\n",
    "ax.set_xlabel(\"IMDB 100 Reviews\", fontsize=12)\n",
    "ax.set_ylabel(\"Polarity\", fontsize=12)\n",
    "plt.show()\n"
   ]
  },
  {
   "cell_type": "markdown",
   "metadata": {},
   "source": [
    "### Stopwords = [ NLTK stopwords + Extended words from multiple iterations of text analysis ) "
   ]
  },
  {
   "cell_type": "code",
   "execution_count": 9,
   "metadata": {
    "scrolled": false
   },
   "outputs": [
    {
     "name": "stdout",
     "output_type": "stream",
     "text": [
      "[u'i', u'me', u'my', u'myself', u'we', u'our', u'ours', u'ourselves', u'you', u'your', u'yours', u'yourself', u'yourselves', u'he', u'him', u'his', u'himself', u'she', u'her', u'hers', u'herself', u'it', u'its', u'itself', u'they', u'them', u'their', u'theirs', u'themselves', u'what', u'which', u'who', u'whom', u'this', u'that', u'these', u'those', u'am', u'is', u'are', u'was', u'were', u'be', u'been', u'being', u'have', u'has', u'had', u'having', u'do', u'does', u'did', u'doing', u'a', u'an', u'the', u'and', u'but', u'if', u'or', u'because', u'as', u'until', u'while', u'of', u'at', u'by', u'for', u'with', u'about', u'against', u'between', u'into', u'through', u'during', u'before', u'after', u'above', u'below', u'to', u'from', u'up', u'down', u'in', u'out', u'on', u'off', u'over', u'under', u'again', u'further', u'then', u'once', u'here', u'there', u'when', u'where', u'why', u'how', u'all', u'any', u'both', u'each', u'few', u'more', u'most', u'other', u'some', u'such', u'no', u'nor', u'not', u'only', u'own', u'same', u'so', u'than', u'too', u'very', u's', u't', u'can', u'will', u'just', u'don', u'should', u'now', u'd', u'll', u'm', u'o', u're', u've', u'y', u'ain', u'aren', u'couldn', u'didn', u'doesn', u'hadn', u'hasn', u'haven', u'isn', u'ma', u'mightn', u'mustn', u'needn', u'shan', u'shouldn', u'wasn', u'weren', u'won', u'wouldn', \"'ll\", \"'d\", \"'m\", \"'re\", \"'s\", \"'ve\", \"ca n't\", 'r', \"n't\", 'ca', 'see', 'get', 'movies', 'movie', 'go', 'say', 'come', 'many', 'another', 'could', 'would', 'made', 'really', 'want', 'even', 'odd', 'films', 'plot', 'ever', 'actually', 'also', 'movie', 'film']\n"
     ]
    }
   ],
   "source": [
    "stop_words = nltk.corpus.stopwords.words('english')\n",
    "extended_stopwords = ['\\'ll','\\'d','\\'m','\\'re','\\'s','\\'ve','ca n\\'t','r','n\\'t','ca','see','get','movies','movie','go','say','come','many','another','could','would','made','really','want','even','odd','films','plot','ever','actually','also','movie','film']\n",
    "stopwords = stop_words + extended_stopwords\n",
    "\n",
    "print stopwords"
   ]
  },
  {
   "cell_type": "markdown",
   "metadata": {},
   "source": [
    "\n",
    "###  Document Term Matrix using TF-IDF weighing scheme ( unigrams & bigrams ) \n"
   ]
  },
  {
   "cell_type": "code",
   "execution_count": 10,
   "metadata": {
    "scrolled": false
   },
   "outputs": [
    {
     "name": "stdout",
     "output_type": "stream",
     "text": [
      "CPU times: user 392 ms, sys: 12 ms, total: 404 ms\n",
      "Wall time: 404 ms\n",
      "(100, 23)\n"
     ]
    }
   ],
   "source": [
    "term_idf_vectorizer       = TfidfVectorizer(max_df=0.9, max_features=2000,min_df=0.3, stop_words=stopwords, use_idf=True, tokenizer=tokenize, ngram_range=(1,2))\n",
    "%time term_idf_matrix     = term_idf_vectorizer.fit_transform(imdb.reviews) \n",
    "term_idf_feature_names    = term_idf_vectorizer.get_feature_names()\n",
    "print (term_idf_matrix).shape"
   ]
  },
  {
   "cell_type": "markdown",
   "metadata": {},
   "source": [
    "### TF-IDF Features on model params  ( min_df = 0.3 , max_df = 0.9 )"
   ]
  },
  {
   "cell_type": "code",
   "execution_count": 11,
   "metadata": {},
   "outputs": [
    {
     "name": "stdout",
     "output_type": "stream",
     "text": [
      "[u'best', u'cameron', u'dicaprio', u'effects', u'good', u'jack', u'james', u'james cameron', u'kate', u'like', u'love', u'love story', u'much', u'one', u'people', u'rose', u'seen', u'ship', u'special', u'story', u'time', u'titanic', u'winslet']\n"
     ]
    },
    {
     "data": {
      "text/plain": [
       "[(u'titanic', 23.816388065259229),\n",
       " (u'one', 17.816273201816202),\n",
       " (u'people', 16.28637155526151),\n",
       " (u'love', 15.994226712869134),\n",
       " (u'ship', 15.680991540890769),\n",
       " (u'time', 15.181084930271583),\n",
       " (u'story', 14.158611453695693),\n",
       " (u'like', 12.692362389482325),\n",
       " (u'cameron', 12.570285579352678),\n",
       " (u'rose', 12.314379553851616),\n",
       " (u'jack', 10.536474022225097),\n",
       " (u'best', 10.176133248342458),\n",
       " (u'good', 9.9813549064206892),\n",
       " (u'james', 9.9129111421178884),\n",
       " (u'love story', 9.7936953537828355),\n",
       " (u'effects', 9.7270116987082638),\n",
       " (u'much', 9.1663660037724402),\n",
       " (u'seen', 9.1566845823009686),\n",
       " (u'winslet', 8.511426163671123),\n",
       " (u'special', 8.2773013661909314),\n",
       " (u'kate', 8.2138779927123799),\n",
       " (u'dicaprio', 7.8400281414858632),\n",
       " (u'james cameron', 7.3140359337772081)]"
      ]
     },
     "execution_count": 11,
     "metadata": {},
     "output_type": "execute_result"
    }
   ],
   "source": [
    "print term_idf_feature_names\n",
    "\n",
    "tfidf = zip(term_idf_vectorizer.get_feature_names(),np.asarray(term_idf_matrix.sum(axis=0)).ravel())\n",
    "term_idf_frequency = sorted(tfidf,key=lambda x: x[1],reverse=True)\n",
    "term_idf_frequency"
   ]
  },
  {
   "cell_type": "markdown",
   "metadata": {},
   "source": [
    "###  Document Term Matrix using Term Frequency (TF)  weighing scheme ( unigrams & bigrams ) "
   ]
  },
  {
   "cell_type": "code",
   "execution_count": 12,
   "metadata": {},
   "outputs": [
    {
     "name": "stdout",
     "output_type": "stream",
     "text": [
      "CPU times: user 380 ms, sys: 28 ms, total: 408 ms\n",
      "Wall time: 380 ms\n",
      "(100, 23)\n"
     ]
    }
   ],
   "source": [
    "count_vectorizer    = CountVectorizer(max_df=0.9, max_features=2000,min_df=0.3, stop_words=stopwords, tokenizer=tokenize, ngram_range=(1,2))\n",
    "%time term_frequency_matrix = count_vectorizer.fit_transform(imdb.reviews) \n",
    "term_frequency_feature_names    = count_vectorizer.get_feature_names()\n",
    "print (term_frequency_matrix).shape "
   ]
  },
  {
   "cell_type": "markdown",
   "metadata": {},
   "source": [
    "### Term Frequency  Features on model params  ( min_df = 0.3 , max_df = 0.9 )"
   ]
  },
  {
   "cell_type": "code",
   "execution_count": 13,
   "metadata": {
    "scrolled": false
   },
   "outputs": [
    {
     "name": "stdout",
     "output_type": "stream",
     "text": [
      "[u'best', u'cameron', u'dicaprio', u'effects', u'good', u'jack', u'james', u'james cameron', u'kate', u'like', u'love', u'love story', u'much', u'one', u'people', u'rose', u'seen', u'ship', u'special', u'story', u'time', u'titanic', u'winslet']\n"
     ]
    },
    {
     "data": {
      "text/plain": [
       "[(u'titanic', 202),\n",
       " (u'one', 123),\n",
       " (u'ship', 120),\n",
       " (u'love', 111),\n",
       " (u'story', 102),\n",
       " (u'time', 102),\n",
       " (u'rose', 89),\n",
       " (u'cameron', 85),\n",
       " (u'people', 85),\n",
       " (u'like', 72),\n",
       " (u'jack', 71),\n",
       " (u'james', 61),\n",
       " (u'effects', 56),\n",
       " (u'much', 51),\n",
       " (u'best', 49),\n",
       " (u'good', 49),\n",
       " (u'love story', 47),\n",
       " (u'special', 46),\n",
       " (u'winslet', 46),\n",
       " (u'seen', 43),\n",
       " (u'dicaprio', 42),\n",
       " (u'kate', 42),\n",
       " (u'james cameron', 41)]"
      ]
     },
     "execution_count": 13,
     "metadata": {},
     "output_type": "execute_result"
    }
   ],
   "source": [
    "print term_frequency_feature_names\n",
    "\n",
    "tf = zip(count_vectorizer.get_feature_names(),np.asarray(term_frequency_matrix.sum(axis=0)).ravel())\n",
    "term_frequency = sorted(tf,key=lambda x: x[1],reverse=True)\n",
    "term_frequency"
   ]
  },
  {
   "cell_type": "markdown",
   "metadata": {},
   "source": [
    "### Topic extraction with Non-negative Matrix Factorization using TF-IDF Features "
   ]
  },
  {
   "cell_type": "code",
   "execution_count": 14,
   "metadata": {},
   "outputs": [
    {
     "name": "stdout",
     "output_type": "stream",
     "text": [
      "CPU times: user 80 ms, sys: 188 ms, total: 268 ms\n",
      "Wall time: 125 ms\n",
      "\n",
      "Fitting the Non-negative Matrix Factorization model with tf-idf features: \n",
      "\n",
      "Topic #0:\n",
      "one time like much ship seen story best cameron effects people jack james dicaprio\n",
      "Topic #1:\n",
      "love love story story much time good titanic cameron like jack james people best seen\n",
      "Topic #2:\n",
      "people seen much dicaprio story titanic jack winslet like james cameron cameron effects good james\n",
      "Topic #3:\n",
      "rose jack story kate ship love like winslet titanic time one much cameron dicaprio\n",
      "Topic #4:\n",
      "cameron james james cameron like dicaprio seen much story titanic one effects rose kate winslet\n",
      "Topic #5:\n",
      "best kate winslet good dicaprio like seen rose love james one james cameron cameron effects\n",
      "Topic #6:\n",
      "effects special good seen titanic cameron one rose people winslet james cameron dicaprio jack james\n",
      "Topic #7:\n",
      "titanic ship time love winslet dicaprio story jack good kate people james effects james cameron\n",
      "()\n"
     ]
    }
   ],
   "source": [
    "# Fit the NMF model\n",
    "%time nmf = NMF(n_components=8, random_state=1,alpha=.1, l1_ratio=.5).fit(term_idf_matrix)\n",
    "\n",
    "print(\"\\nFitting the Non-negative Matrix Factorization model with tf-idf features: \\n\")\n",
    "print_top_words(nmf, term_idf_feature_names, 14)"
   ]
  },
  {
   "cell_type": "markdown",
   "metadata": {},
   "source": [
    "### Topic extraction with Latent Dirichlet Allocation using TF Features "
   ]
  },
  {
   "cell_type": "code",
   "execution_count": 15,
   "metadata": {},
   "outputs": [
    {
     "name": "stdout",
     "output_type": "stream",
     "text": [
      "CPU times: user 184 ms, sys: 0 ns, total: 184 ms\n",
      "Wall time: 183 ms\n",
      "\n",
      "Topics using Latent Dirichlet Allocation model with Term frequencies: \n",
      "\n",
      "Topic #0:\n",
      "titanic ship one time love story people rose jack like cameron best james much\n",
      "Topic #1:\n",
      "rose kate winslet time people ship james story love dicaprio seen james cameron jack good\n",
      "Topic #2:\n",
      "people rose ship time jack story one dicaprio much love story special like titanic seen\n",
      "Topic #3:\n",
      "best one much like cameron james time james cameron story people love dicaprio kate love story\n",
      "Topic #4:\n",
      "love story rose titanic winslet one special jack effects ship dicaprio seen kate time\n",
      "Topic #5:\n",
      "like cameron much one time titanic good kate james james cameron winslet jack people effects\n",
      "Topic #6:\n",
      "titanic cameron effects story special love james love story one james cameron seen rose good ship\n",
      "Topic #7:\n",
      "jack rose love kate titanic story dicaprio winslet time love story much special people one\n",
      "()\n"
     ]
    }
   ],
   "source": [
    "lda = LatentDirichletAllocation(n_topics=8, max_iter=5,learning_method='online',learning_offset=50.,random_state=0)\n",
    "%time lda.fit(term_frequency_matrix)\n",
    "print(\"\\nTopics using Latent Dirichlet Allocation model with Term frequencies: \\n\")\n",
    "print_top_words(lda, term_frequency_feature_names, 14)"
   ]
  },
  {
   "cell_type": "markdown",
   "metadata": {},
   "source": [
    "###  LDA Topic modeling using only Bigram features  based on frequency ( avoid unigram noise ) "
   ]
  },
  {
   "cell_type": "code",
   "execution_count": 16,
   "metadata": {
    "scrolled": false
   },
   "outputs": [
    {
     "name": "stdout",
     "output_type": "stream",
     "text": [
      "CPU times: user 412 ms, sys: 16 ms, total: 428 ms\n",
      "Wall time: 403 ms\n",
      "(100, 22)\n",
      "\n",
      " Bigram Features based on Term Frequency \n",
      " \n"
     ]
    },
    {
     "data": {
      "text/plain": [
       "[(u'love story', 47),\n",
       " (u'james cameron', 41),\n",
       " (u'special effects', 41),\n",
       " (u'kate winslet', 29),\n",
       " (u'jack rose', 25),\n",
       " (u'leonardo dicaprio', 20),\n",
       " (u'billy zane', 16),\n",
       " (u'first time', 13),\n",
       " (u'james horner', 12),\n",
       " (u'celine dion', 11),\n",
       " (u'jack dawson', 11),\n",
       " (u'kathy bates', 11),\n",
       " (u'sinking ship', 10),\n",
       " (u'every time', 8),\n",
       " (u'historically accurate', 8),\n",
       " (u'ship sinking', 8),\n",
       " (u'bill paxton', 7),\n",
       " (u'gloria stuart', 7),\n",
       " (u'dicaprio kate', 6),\n",
       " (u'dicaprio kate winslet', 6),\n",
       " (u'dicaprio winslet', 6),\n",
       " (u'much money', 6)]"
      ]
     },
     "execution_count": 16,
     "metadata": {},
     "output_type": "execute_result"
    }
   ],
   "source": [
    "bigram_vectorizer    = CountVectorizer(max_df=0.9, max_features=200,min_df=0.06, stop_words=stopwords, tokenizer=tokenize, ngram_range=(2,3))\n",
    "%time dtm_bigram_matrix = bigram_vectorizer.fit_transform(imdb.reviews) \n",
    "bigram_frequency_feature_names    = bigram_vectorizer.get_feature_names()\n",
    "print (dtm_bigram_matrix).shape\n",
    "print (\"\\n Bigram Features based on Term Frequency \\n \")\n",
    "tf = zip(bigram_vectorizer.get_feature_names(),np.asarray(dtm_bigram_matrix.sum(axis=0)).ravel())\n",
    "bigram_term_frequency = sorted(tf,key=lambda x: x[1],reverse=True)\n",
    "bigram_term_frequency"
   ]
  },
  {
   "cell_type": "code",
   "execution_count": 16,
   "metadata": {},
   "outputs": [],
   "source": [
    "#from IPython.display import Image\n",
    "#Image(filename='up_imdb_review.png')"
   ]
  },
  {
   "cell_type": "markdown",
   "metadata": {},
   "source": [
    "###  Topics = 5 , Displaying top 10 words based on probability "
   ]
  },
  {
   "cell_type": "code",
   "execution_count": 17,
   "metadata": {},
   "outputs": [
    {
     "name": "stdout",
     "output_type": "stream",
     "text": [
      "CPU times: user 76 ms, sys: 8 ms, total: 84 ms\n",
      "Wall time: 85.7 ms\n",
      "\n",
      "Topics using Latent Dirichlet Allocation model with Term frequencies: \n",
      "\n",
      "Topic #0:\n",
      "special effects love story kate winslet leonardo dicaprio jack dawson jack rose historically accurate first time bill paxton every time sinking ship gloria stuart\n",
      "Topic #1:\n",
      "jack rose james cameron dicaprio winslet gloria stuart kathy bates love story much money special effects ship sinking leonardo dicaprio first time jack dawson\n",
      "Topic #2:\n",
      "special effects every time james cameron james horner leonardo dicaprio dicaprio winslet ship sinking jack rose first time bill paxton gloria stuart kate winslet\n",
      "Topic #3:\n",
      "love story james cameron celine dion james horner first time much money jack dawson billy zane kate winslet kathy bates gloria stuart bill paxton\n",
      "Topic #4:\n",
      "kate winslet billy zane james cameron special effects leonardo dicaprio sinking ship kathy bates dicaprio kate winslet dicaprio kate ship sinking dicaprio winslet historically accurate\n",
      "()\n"
     ]
    }
   ],
   "source": [
    "lda = LatentDirichletAllocation(n_topics=5, max_iter=4,learning_method='batch',learning_offset=50.,random_state=0)\n",
    "%time lda.fit(dtm_bigram_matrix)\n",
    "print(\"\\nTopics using Latent Dirichlet Allocation model with Term frequencies: \\n\")\n",
    "print_top_words(lda, bigram_frequency_feature_names,12)"
   ]
  },
  {
   "cell_type": "markdown",
   "metadata": {},
   "source": [
    "###  Recommendation based on movie attributes [ Titanic( 1997)  ] "
   ]
  },
  {
   "cell_type": "markdown",
   "metadata": {},
   "source": [
    "    [ Floating house, Paradise falls, Thousands Balloons, Old man & Boy , Retirement Home flying to South America, Boy scout, bird = Kevin ] \n",
    "     \n",
    "     Very innovative animation movie ( may be better than toy story ) which will attract young and old because of its characters. The director needs to retain the theme where he effectively utilized talking animals, explorer , adventures, bonding ( young kid with old man ) which got him success. \n",
    "     \n",
    "     Pixar , Disney should make more animation movies with actors Edward Asner , Christopher Plummer & Jordan Nagai\n",
    "    "
   ]
  }
 ],
 "metadata": {
  "kernelspec": {
   "display_name": "Python 2",
   "language": "python",
   "name": "python2"
  },
  "language_info": {
   "codemirror_mode": {
    "name": "ipython",
    "version": 2
   },
   "file_extension": ".py",
   "mimetype": "text/x-python",
   "name": "python",
   "nbconvert_exporter": "python",
   "pygments_lexer": "ipython2",
   "version": "2.7.12"
  }
 },
 "nbformat": 4,
 "nbformat_minor": 1
}
